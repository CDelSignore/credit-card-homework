{
 "cells": [
  {
   "cell_type": "code",
   "execution_count": 2,
   "metadata": {
    "collapsed": false
   },
   "outputs": [
    {
     "data": {
      "text/html": [
       "\n",
       "<script>\n",
       "    require(\n",
       "        ['base/js/namespace', 'jquery'], \n",
       "        function(jupyter, $) {\n",
       "            $(jupyter.events).on(\"kernel_ready.Kernel\", function () {\n",
       "                jupyter.actions.call('jupyter-notebook:run-all-cells-below');\n",
       "            });\n",
       "        }\n",
       "    );\n",
       "</script>\n",
       "\n",
       "<script>\n",
       "  function code_toggle() {\n",
       "    if (code_shown){\n",
       "      $('div.input').hide('500');\n",
       "      $('#toggleButton').val('Show Code')\n",
       "    } else {\n",
       "      $('div.input').show('500');\n",
       "      $('#toggleButton').val('Hide Code')\n",
       "    }\n",
       "    code_shown = !code_shown\n",
       "  }\n",
       "\n",
       "  $( document ).ready(function(){\n",
       "    code_shown=false;\n",
       "    $('div.input').hide()\n",
       "  });\n",
       "</script>\n",
       "<form action=\"javascript:code_toggle()\"><input type=\"submit\" id=\"toggleButton\" value=\"Show Code\"></form>"
      ],
      "text/plain": [
       "<IPython.core.display.HTML object>"
      ]
     },
     "metadata": {},
     "output_type": "display_data"
    }
   ],
   "source": [
    "%%HTML\n",
    "\n",
    "<script>\n",
    "    require(\n",
    "        ['base/js/namespace', 'jquery'], \n",
    "        function(jupyter, $) {\n",
    "            $(jupyter.events).on(\"kernel_ready.Kernel\", function () {\n",
    "                jupyter.actions.call('jupyter-notebook:run-cell');\n",
    "            });\n",
    "        }\n",
    "    );\n",
    "</script>\n",
    "\n",
    "<script>\n",
    "  function code_toggle() {\n",
    "    if (code_shown){\n",
    "      $('div.input').hide('500');\n",
    "      $('#toggleButton').val('Show Code')\n",
    "    } else {\n",
    "      $('div.input').show('500');\n",
    "      $('#toggleButton').val('Hide Code')\n",
    "    }\n",
    "    code_shown = !code_shown\n",
    "  }\n",
    "\n",
    "  $( document ).ready(function(){\n",
    "    code_shown=false;\n",
    "    $('div.input').hide()\n",
    "  });\n",
    "</script>\n",
    "<form action=\"javascript:code_toggle()\"><input type=\"submit\" id=\"toggleButton\" value=\"Show Code\"></form>"
   ]
  },
  {
   "cell_type": "code",
   "execution_count": 3,
   "metadata": {
    "collapsed": true
   },
   "outputs": [],
   "source": [
    "from ipywidgets import widgets\n",
    "from IPython.display import display"
   ]
  },
  {
   "cell_type": "code",
   "execution_count": 4,
   "metadata": {
    "collapsed": false
   },
   "outputs": [],
   "source": [
    "defaultRate = .2999\n",
    "timeFrameMonths = 48\n",
    "\n",
    "weightAPR = .7\n",
    "weightCashback = .15\n",
    "weightFees = .1\n",
    "weightGracePeriod = .05\n",
    "\n",
    "def CreditCardScore(card):\n",
    "    if (card == 'CitiForward'):\n",
    "        apr_Standard_Purchase = .1724\n",
    "        apr_Standard_CashAdvance = .2199\n",
    "        apr_Promo_Purchase_6Months1 = apr_Standard_Purchase\n",
    "        apr_Promo_Purchase_6Months2 = apr_Standard_Purchase\n",
    "        apr_Promo_Purchase_6Months3 = apr_Standard_Purchase\n",
    "        apr_Promo_Purchase = apr_Standard_Purchase\n",
    "        apr_APRReduction = .0025\n",
    "        Cashback_General_Bracket1 = 0\n",
    "        Cashback_General_Bracket1_Max = 0\n",
    "        Cashback_General_Bracket2 = 0\n",
    "        Cashback_Categorical_YearlyLimit = 750\n",
    "        fee_BalanceTransfer = .03\n",
    "        fee_CashAdvance = .03\n",
    "        fee_ForeignPurchase = .03\n",
    "        fee_Late_Bracket1_Amount = 15\n",
    "        fee_Late_Bracket2_Amount = 29\n",
    "        fee_Late_Bracket3_Amount = 39\n",
    "        fee_OverCreditLine = 39\n",
    "        goodCreditScoreNeeded = True\n",
    "        gracePeriodDays = 0\n",
    "\n",
    "    elif (card=='CitiPlatinum'):\n",
    "        apr_Standard_Purchase = .2124\n",
    "        apr_Standard_CashAdvance = .2199\n",
    "        apr_Promo_Purchase_6Months1 = 0\n",
    "        apr_Promo_Purchase_6Months2 = .1724\n",
    "        apr_Promo_Purchase_6Months3 = .1824\n",
    "        apr_APRReduction = 0\n",
    "        Cashback_General_Bracket1 = 0\n",
    "        Cashback_General_Bracket1_Max = 0\n",
    "        Cashback_General_Bracket2 = 0\n",
    "        Cashback_Categorical_YearlyLimit = 750\n",
    "        fee_BalanceTransfer = .03\n",
    "        fee_CashAdvance = .03\n",
    "        fee_ForeignPurchase = .03\n",
    "        fee_Late_Bracket1_Amount = 15\n",
    "        fee_Late_Bracket2_Amount = 29\n",
    "        fee_Late_Bracket3_Amount = 39\n",
    "        fee_OverCreditLine = 39\n",
    "        goodCreditScoreNeeded = True\n",
    "        gracePeriodDays = 0\n",
    "\n",
    "    else: #(card='Discover')\n",
    "        apr_Standard_Purchase = .1499\n",
    "        apr_Standard_CashAdvance = .2399\n",
    "        apr_Promo_Purchase_6Months1 = 0\n",
    "        apr_Promo_Purchase_6Months2 = .1499\n",
    "        apr_Promo_Purchase_6Months3 = .1499\n",
    "        apr_APRReduction = 0\n",
    "        Cashback_General_Bracket1 = .0025\n",
    "        Cashback_General_Bracket1_Max = 3000\n",
    "        Cashback_General_Bracket2 = .01\n",
    "        Cashback_Categorical_YearlyLimit = 6000\n",
    "        fee_BalanceTransfer = 0\n",
    "        fee_CashAdvance = .05\n",
    "        fee_ForeignPurchase = .02\n",
    "        fee_Late_Bracket1_Amount = 0\n",
    "        fee_Late_Bracket2_Amount = 29\n",
    "        fee_Late_Bracket3_Amount = 39\n",
    "        fee_OverCreditLine = 0\n",
    "        goodCreditScoreNeeded = False\n",
    "        gracePeriodDays = 25\n",
    "  \n",
    "    apr_Standard_Purchase_Predict_Reduction = (apr_APRReduction*(min((indicatorResults.result[3]/850),(indicatorResults.result[5]/10))))*8\n",
    "    apr_Standard_Purchase_Predict = apr_Standard_Purchase+((1-(min((indicatorResults.result[3]/850),(indicatorResults.result[5]/10))))*(defaultRate-apr_Standard_Purchase))-apr_Standard_Purchase_Predict_Reduction\n",
    "    \n",
    "    score_APR_Purchase = ((((min((indicatorResults.result[3]/850),(indicatorResults.result[5]/10)))*(((min(6,timeFrameMonths))*((defaultRate-apr_Promo_Purchase_6Months1)/defaultRate)) + ((max(0,(min(6,(timeFrameMonths-6)))))*((defaultRate-apr_Promo_Purchase_6Months2)/defaultRate)) + ((max(0,(min(6,(timeFrameMonths-12)))))*((defaultRate-apr_Promo_Purchase_6Months3)/defaultRate)))) + ((max(0,(timeFrameMonths-12)))*((defaultRate-apr_Standard_Purchase_Predict)/defaultRate)))*100)/timeFrameMonths\n",
    "    score_APR_CashAdvance = ((defaultRate-apr_Standard_CashAdvance)/defaultRate)*100\n",
    "    \n",
    "    score_Cashback_General = (((min(indicatorResults.result[6],3000))*Cashback_General_Bracket1)+((max((indicatorResults.result[6]-Cashback_General_Bracket1_Max),0))*Cashback_General_Bracket2))/200*80\n",
    "    if (indicatorResults.result[4] == 4):\n",
    "        bonusThankYouMoney = 40\n",
    "    else:\n",
    "        bonusThankYouMoney = 0\n",
    "    if (card=='Discover'):\n",
    "        score_Cashback_Categorical = ((Cashback_Categorical_YearlyLimit*(indicatorResults.result[0]/10))/60)\n",
    "    else:\n",
    "        score_Cashback_Categorical = (((Cashback_Categorical_YearlyLimit*(indicatorResults.result[1]/10))+bonusThankYouMoney)/60)\n",
    "    \n",
    "    score_Fees = 160-((1000*(fee_BalanceTransfer+fee_CashAdvance+(fee_ForeignPurchase*(indicatorResults.result[2]/10))))+((fee_Late_Bracket1_Amount+fee_Late_Bracket2_Amount+fee_Late_Bracket3_Amount)/3)+fee_OverCreditLine)\n",
    "    \n",
    "    score_GracePeriod = (gracePeriodDays/31)*100\n",
    "    \n",
    "    if ((goodCreditScoreNeeded is True) and (indicatorResults.result[3]<700)):\n",
    "        score_Total = 'Credit Score Too Low'\n",
    "    else:\n",
    "        score_Total = round((weightAPR*(score_APR_Purchase+score_APR_CashAdvance))+(weightCashback*(score_Cashback_General+score_Cashback_Categorical))+(weightFees*score_Fees)+(weightGracePeriod*score_GracePeriod))\n",
    "    \n",
    "    return score_Total"
   ]
  },
  {
   "cell_type": "code",
   "execution_count": 5,
   "metadata": {
    "collapsed": false,
    "scrolled": true
   },
   "outputs": [
    {
     "data": {
      "text/plain": [
       "(1, 1, 1, 300, 1, 1, 1)"
      ]
     },
     "metadata": {},
     "output_type": "display_data"
    }
   ],
   "source": [
    "from IPython.display import display\n",
    "def Slider(indicator_Bonus_Discover,indicator_Bonus_Citi,indicator_TravelFrequency,indicator_CreditHistory,indicator_Bonus_CitiPlatinum,indicator_Punctuality,indicator_Spending):\n",
    "    return(indicator_Bonus_Discover,indicator_Bonus_Citi,indicator_TravelFrequency,indicator_CreditHistory,indicator_Bonus_CitiPlatinum,indicator_Punctuality,indicator_Spending)\n",
    "indicatorResults = widgets.interactive(\n",
    "    Slider,\n",
    "    indicator_Bonus_Discover=widgets.IntSlider(description='Frequency of Purchase: Home Improvement/Department/Pet Stores and Gas',min=1,max=10),\n",
    "    indicator_Bonus_Citi=widgets.IntSlider(description='Frequency of Purchase: Record/Video Rental Stores and Theaters',min=1,max=10),\n",
    "    indicator_TravelFrequency=widgets.IntSlider(description='Foreign Travel Frequency',min=1,max=10),\n",
    "    indicator_CreditHistory=widgets.IntSlider(description='Credit Score',min=300,max=850),\n",
    "    indicator_Bonus_CitiPlatinum=widgets.IntSlider(description='Typical GPA',min=1,max=4),\n",
    "    indicator_Punctuality=widgets.IntSlider(description='Punctuality',min=1,max=10),\n",
    "    indicator_Spending=widgets.IntSlider(description='Spent/Yr',min=1,max=20000)\n",
    ")\n",
    "\n",
    "def ButtonClick(b):\n",
    "    print('CitiPlatinum:',CreditCardScore('CitiPlatinum'))\n",
    "    print('CitiForward:',CreditCardScore('CitiForward'))\n",
    "    print('Discover:',CreditCardScore('Discover'))\n",
    "    print('')\n",
    "\n",
    "button = widgets.Button(description=\"Calculate\")\n",
    "\n",
    "display(indicatorResults)\n",
    "display(button)\n",
    "\n",
    "button.on_click(ButtonClick)"
   ]
  }
 ],
 "metadata": {
  "anaconda-cloud": {},
  "kernelspec": {
   "display_name": "Python [default]",
   "language": "python",
   "name": "python3"
  },
  "language_info": {
   "codemirror_mode": {
    "name": "ipython",
    "version": 3
   },
   "file_extension": ".py",
   "mimetype": "text/x-python",
   "name": "python",
   "nbconvert_exporter": "python",
   "pygments_lexer": "ipython3",
   "version": "3.5.2"
  }
 },
 "nbformat": 4,
 "nbformat_minor": 0
}
